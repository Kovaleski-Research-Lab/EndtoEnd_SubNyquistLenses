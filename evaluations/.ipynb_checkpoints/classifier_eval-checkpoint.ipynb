{
 "cells": [
  {
   "cell_type": "code",
   "execution_count": null,
   "id": "c06bbf98-6f65-4e94-b4b1-75896267fe74",
   "metadata": {},
   "outputs": [],
   "source": [
    "import os\n",
    "import sys\n",
    "import yaml\n",
    "import torch\n",
    "import logging\n",
    "import argparse\n",
    "import numpy as np\n",
    "import seaborn as sn\n",
    "import pandas as pd\n",
    "from tqdm.notebook import tqdm\n",
    "import matplotlib.pyplot as plt\n",
    "from pytorch_lightning import seed_everything\n",
    "from torchmetrics.functional import mean_squared_error as mse\n",
    "from torchmetrics.functional import peak_signal_noise_ratio as psnr\n",
    "from torchmetrics.functional import structural_similarity_index_measure as ssim\n",
    "from torchmetrics import ConfusionMatrix, F1Score, Accuracy, Precision, Recall, ConfusionMatrix\n",
    "sys.path.append('../')\n",
    "from utils import parameter_manager, model_loader\n",
    "from core import datamodule, lrn, modulator, propagator, classifiers\n",
    "\n",
    "plt.style.use('seaborn-v0_8')\n",
    "\n",
    "\n",
    "f1 = F1Score(task = 'multiclass', num_classes = 10).cpu()\n",
    "acc = Accuracy(task = 'multiclass', num_classes = 10).cpu()\n",
    "prec = Precision(task = 'multiclass', num_classes = 10).cpu()\n",
    "rec = Recall(task = 'multiclass', num_classes = 10).cpu()\n",
    "cfm = ConfusionMatrix(task = 'multiclass', num_classes=10).cpu()\n",
    "#logging.basicConfig(level=logging.DEBUG)"
   ]
  },
  {
   "cell_type": "code",
   "execution_count": null,
   "id": "556caa39-686e-4dcf-a418-eb81767d25c1",
   "metadata": {},
   "outputs": [],
   "source": [
    "# Load parameters\n",
    "params = yaml.load(open('../config.yaml'), Loader = yaml.FullLoader)\n",
    "params['batch_size'] = 1\n",
    "params['distance'] = torch.tensor(0.60264)\n",
    "\n",
    "pm = parameter_manager.Parameter_Manager(params = params)\n",
    "\n",
    "# Load in the test dataset\n",
    "pm.data_split = \"mnist_1000perClass\"\n",
    "datamod = datamodule.select_data(pm.params_datamodule)\n",
    "datamod.setup()\n",
    "dataloader_train_1000perClass = datamod.train_dataloader()\n",
    "dataloader_test = datamod.test_dataloader()\n",
    "\n",
    "datasets = ['mnist_single0', 'mnist_single1', 'mnist_10_1', 'mnist_10_8', 'mnist_100_1', 'mnist_100_8', 'mnist_1perClass', 'mnist_10perClass', 'mnist_100perClass', 'mnist_1000perClass']\n",
    " \n",
    "data_loaders = {}\n",
    "for data in datasets:\n",
    "    pm.data_split = data\n",
    "    datamod = datamodule.select_data(pm.params_datamodule)\n",
    "    datamod.setup()\n",
    "    loader = datamod.train_dataloader()\n",
    "    data_loaders[f'{data}'] = loader"
   ]
  },
  {
   "cell_type": "markdown",
   "id": "1c9e9f4d-8a53-4444-997b-e56badecc834",
   "metadata": {},
   "source": [
    "## Utility functions to evaluate the models"
   ]
  },
  {
   "cell_type": "code",
   "execution_count": null,
   "id": "2685f7c6-3c4b-44b5-b2e8-2347256c0ee7",
   "metadata": {},
   "outputs": [],
   "source": [
    "def eval_model(model, dataloader):\n",
    "    outputs = []\n",
    "    for i,batch in enumerate(tqdm(dataloader)):\n",
    "        sample,target = batch\n",
    "        sample = sample.cuda()\n",
    "        target = target.cuda()\n",
    "        batch = (sample,target)\n",
    "        prediction,target = model.shared_step(batch,i)\n",
    "        outputs.append((torch.argmax(prediction.detach().cpu()), target.detach().cpu().squeeze()))\n",
    "        #from IPython import embed; embed()\n",
    "    outputs = torch.from_numpy(np.asarray(outputs))\n",
    "    measures = run_measures(outputs)\n",
    "    return outputs, measures\n",
    "\n",
    "def run_measures(outputs):\n",
    "   \n",
    "    predictions, targets = outputs[:,0], outputs[:,1]\n",
    "\n",
    "    precision = prec(preds= predictions, target=targets)\n",
    "    recall = rec(preds = predictions, target=targets)\n",
    "    f1_score = f1(preds = predictions, target=targets)\n",
    "    accuracy = acc(preds = predictions, target=targets)\n",
    "    confusion_matrix = cfm(preds=predictions, target = targets)\n",
    "    return {'prec':precision, 'rec':recall, 'f1':f1_score, 'acc':accuracy, 'cfm':confusion_matrix}"
   ]
  },
  {
   "cell_type": "markdown",
   "id": "5349e565-1f0a-4cf9-aa8f-9128b816bfd3",
   "metadata": {},
   "source": [
    "---\n",
    "---\n",
    "---"
   ]
  },
  {
   "cell_type": "code",
   "execution_count": null,
   "id": "5d37a33c-bc11-47bc-98f3-e1cc0e529be8",
   "metadata": {},
   "outputs": [],
   "source": [
    "#Load the model in \n",
    "model = classifiers.Classifier.load_from_checkpoint('../my_models/classifier/noLens_transferClassifier/epoch=4-step=6250.ckpt')\n",
    "model.eval()\n",
    "model = model.cuda()"
   ]
  },
  {
   "cell_type": "code",
   "execution_count": null,
   "id": "33b96caa-8934-49ae-b009-145e2f7892ec",
   "metadata": {},
   "outputs": [],
   "source": [
    "outputs, measures = eval_model(model, data_loaders['mnist_1000perClass'])"
   ]
  },
  {
   "cell_type": "code",
   "execution_count": null,
   "id": "02c36ce1-6fdc-4ab0-99ea-1a2bb398b277",
   "metadata": {},
   "outputs": [],
   "source": [
    "measures"
   ]
  },
  {
   "cell_type": "code",
   "execution_count": null,
   "id": "4f3206af-b875-4e36-9467-c3d6db29cda0",
   "metadata": {},
   "outputs": [],
   "source": [
    "df_cm = pd.DataFrame(measures['cfm'], index = [i for i in \"0123456789\"],\n",
    "                  columns = [i for i in \"0123456789\"])\n",
    "plt.figure(figsize = (10,7))\n",
    "sn.set(font_scale=1.2)\n",
    "\n",
    "sn.heatmap(df_cm, annot=True, annot_kws={\"size\": 10},cmap='Blues', fmt='g', vmax=1000, vmin=0, linecolor='black', square=True)\n",
    "plt.title(\"No lens, transfer classifier\")\n",
    "plt.tight_layout()\n",
    "plt.savefig(\"nolens_transfer_classifier_confusionMatrix.pdf\")"
   ]
  },
  {
   "cell_type": "code",
   "execution_count": null,
   "id": "1457f9c3-f779-4f13-9db7-e53e0acbd817",
   "metadata": {},
   "outputs": [],
   "source": [
    "measures['acc']"
   ]
  },
  {
   "cell_type": "code",
   "execution_count": null,
   "id": "8769c5e2-1035-4390-8388-6fb0eab38092",
   "metadata": {},
   "outputs": [],
   "source": []
  }
 ],
 "metadata": {
  "kernelspec": {
   "display_name": "Python 3 (ipykernel)",
   "language": "python",
   "name": "python3"
  },
  "language_info": {
   "codemirror_mode": {
    "name": "ipython",
    "version": 3
   },
   "file_extension": ".py",
   "mimetype": "text/x-python",
   "name": "python",
   "nbconvert_exporter": "python",
   "pygments_lexer": "ipython3",
   "version": "3.11.5"
  }
 },
 "nbformat": 4,
 "nbformat_minor": 5
}
