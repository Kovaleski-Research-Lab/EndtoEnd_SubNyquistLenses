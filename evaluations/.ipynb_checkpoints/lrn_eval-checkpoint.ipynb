{
 "cells": [
  {
   "cell_type": "code",
   "execution_count": null,
   "id": "e253b278-669a-434a-97c8-91c77e2a7617",
   "metadata": {},
   "outputs": [],
   "source": [
    "import os\n",
    "import sys\n",
    "import yaml\n",
    "import torch\n",
    "import logging\n",
    "import argparse\n",
    "import numpy as np\n",
    "from tqdm.notebook import tqdm\n",
    "import matplotlib.pyplot as plt\n",
    "from pytorch_lightning import seed_everything\n",
    "from torchmetrics.functional import mean_squared_error as mse\n",
    "from torchmetrics.functional import peak_signal_noise_ratio as psnr\n",
    "from torchmetrics.functional import structural_similarity_index_measure as ssim\n",
    "\n",
    "sys.path.append('../')\n",
    "from utils import parameter_manager, model_loader\n",
    "from core import datamodule, lrn, modulator, propagator\n",
    "\n",
    "plt.style.use('seaborn-v0_8')\n",
    "\n",
    "#logging.basicConfig(level=logging.DEBUG)"
   ]
  },
  {
   "cell_type": "markdown",
   "id": "dce62fd9-2df9-4f9d-ad35-1f0e22b0da00",
   "metadata": {},
   "source": [
    "## Load parameters and test dataset"
   ]
  },
  {
   "cell_type": "code",
   "execution_count": null,
   "id": "5e9d82d1-e8f5-4fd5-84e7-cfbd919c18c1",
   "metadata": {
    "tags": []
   },
   "outputs": [],
   "source": [
    "# Load parameters\n",
    "params = yaml.load(open('../config.yaml'), Loader = yaml.FullLoader)\n",
    "params['batch_size'] = 1\n",
    "params['distance'] = torch.tensor(0.60264)\n",
    "\n",
    "pm = parameter_manager.Parameter_Manager(params = params)\n",
    "\n",
    "# Load in the test dataset\n",
    "pm.data_split = \"mnist_1000perClass\"\n",
    "datamod = datamodule.select_data(pm.params_datamodule)\n",
    "datamod.setup()\n",
    "dataloader_train_1000perClass = datamod.train_dataloader()\n",
    "dataloader_test = datamod.test_dataloader()\n",
    "\n",
    "datasets = ['mnist_single0', 'mnist_single1', 'mnist_10_1', 'mnist_10_8', 'mnist_100_1', 'mnist_100_8', 'mnist_1perClass', 'mnist_10perClass', 'mnist_100perClass', 'mnist_1000perClass']\n",
    " \n",
    "data_loaders = {}\n",
    "for data in datasets:\n",
    "    pm.data_split = data\n",
    "    datamod = datamodule.select_data(pm.params_datamodule)\n",
    "    datamod.setup()\n",
    "    loader = datamod.train_dataloader()\n",
    "    data_loaders[f'{data}'] = loader\n",
    "    "
   ]
  },
  {
   "cell_type": "markdown",
   "id": "0cc67899-ef6d-4af3-b7db-b1c6c6b55c5e",
   "metadata": {},
   "source": [
    "## Generate testing data statistics\n",
    "\n",
    "I don't know these are useful."
   ]
  },
  {
   "cell_type": "code",
   "execution_count": null,
   "id": "e78fc2f4-67a7-4e1a-9f80-2abfdb5a8798",
   "metadata": {},
   "outputs": [],
   "source": [
    "# targets = data[1]\n",
    "\n",
    "# bins = [0,1,2,3,4,5,6,7,8,9]\n",
    "# counts, bins = np.histogram(targets, bins=10, range=[0, 10])\n",
    "\n",
    "# fig,ddax = plt.subplots(1,1, figsize=(5,5))\n",
    "\n",
    "# N, bins, patches = ax.hist(bins[:-1], bins, weights=counts, color='green')\n",
    "\n",
    "# tick_labels = [i for i in range(0,10)]\n",
    "# ax.set_xticks([i + 0.5 for i in range(0,10)], tick_labels)\n",
    "\n",
    "# ax.set_ylabel(\"Number of Samples\")\n",
    "# ax.grid(False)\n",
    "# ax.set_xlabel(\"Class\")"
   ]
  },
  {
   "cell_type": "markdown",
   "id": "6a1ea347-7f64-4220-9cba-b6d898134d43",
   "metadata": {},
   "source": [
    "## Utility functions to evaluate the models"
   ]
  },
  {
   "cell_type": "code",
   "execution_count": null,
   "id": "060df6a9-3460-4dcd-9caa-d823fc3bef2a",
   "metadata": {},
   "outputs": [],
   "source": [
    "def run_measures(outputs):\n",
    "   \n",
    "    wavefronts = outputs[0]\n",
    "    amplitudes = outputs[1] \n",
    "    normalized_amplitudes = outputs[2]\n",
    "    images = outputs[3]\n",
    "    normalized_images = outputs[4]\n",
    "    target = outputs[5]\n",
    "\n",
    "    mse_vals = mse(normalized_images.detach(), target.detach())\n",
    "    psnr_vals = psnr(normalized_images.detach(), target.detach())\n",
    "    ssim_vals = ssim(normalized_images.detach(), target.detach()).detach()\n",
    "\n",
    "    return {'mse' : mse_vals.cpu(), 'psnr' : psnr_vals.cpu(), 'ssim' : ssim_vals.cpu()}\n",
    "\n",
    "\n",
    "def eval_model(model, dataloader):\n",
    "    measures = []\n",
    "    measures.append(params)\n",
    "    for i,batch in enumerate(tqdm(dataloader)):\n",
    "        sample,target = batch\n",
    "        sample = sample.cuda()\n",
    "        target = target.cuda()\n",
    "        batch = (sample,target)\n",
    "        outputs = model.shared_step(batch, i)\n",
    "        temp = run_measures(outputs)\n",
    "        temp['target'] = target.detach().cpu()\n",
    "        measures.append(temp)\n",
    "    return (measures, sample[0], outputs[0])\n",
    "\n",
    "def eval_model_single(model, dataloader):\n",
    "    measures = []\n",
    "    measures.append(params)\n",
    "    \n",
    "    batch = next(iter(dataloader))\n",
    "    sample,target = batch\n",
    "    sample = sample.cuda()\n",
    "    target = target.cuda()\n",
    "    batch = (sample,target)\n",
    "    outputs = model.shared_step(batch, 0)\n",
    "    temp = run_measures(outputs)\n",
    "    temp['target'] = target.detach().cpu()\n",
    "    measures.append(temp)\n",
    "    \n",
    "    return (measures, sample[0], outputs[0])\n",
    "\n",
    "def eval_model_fromBatch(model, batch):\n",
    "    measures = []\n",
    "    measures.append(params)\n",
    "    sample,target = batch\n",
    "    sample = sample.cuda()\n",
    "    target = target.cuda()\n",
    "    batch = (sample,target)\n",
    "    outputs = model.shared_step(batch, 0)\n",
    "    temp = run_measures(outputs)\n",
    "    temp['target'] = target.detach().cpu()\n",
    "    measures.append(temp)\n",
    "    \n",
    "    return (measures, sample[0], outputs[2])"
   ]
  },
  {
   "cell_type": "code",
   "execution_count": null,
   "id": "9fe61a02-0b00-4ff8-b261-fbe4c88af4dd",
   "metadata": {},
   "outputs": [],
   "source": [
    "def split_mse_by_class(measures):\n",
    "    mse_by_class = {}\n",
    "    for i in range(0,10):\n",
    "        temp = []\n",
    "        for sample in measures:\n",
    "            if sample['target'] == i:\n",
    "                temp.append(sample['mse'])\n",
    "        mse_by_class[i] = temp\n",
    "    return mse_by_class\n",
    "\n",
    "def split_psnr_by_class(measures):\n",
    "    psnr_by_class = {}\n",
    "    for i in range(0,10):\n",
    "        temp = []\n",
    "        for sample in measures:\n",
    "            if sample['target'] == i:\n",
    "                temp.append(sample['psnr'])\n",
    "        psnr_by_class[i] = temp\n",
    "    return psnr_by_class"
   ]
  },
  {
   "cell_type": "markdown",
   "id": "e19a2401-88b1-4a09-8930-8d424f68be41",
   "metadata": {},
   "source": [
    "---\n",
    "---\n",
    "---\n",
    "---\n",
    "---\n",
    "---\n"
   ]
  },
  {
   "cell_type": "code",
   "execution_count": null,
   "id": "ae849416-060c-4063-bcf2-e062aab006ad",
   "metadata": {},
   "outputs": [],
   "source": [
    "average_mse_values = []\n",
    "average_psnr_values = []\n",
    "\n",
    "analytical_average_mse_values = []\n",
    "analytical_average_psnr_values = []"
   ]
  },
  {
   "cell_type": "markdown",
   "id": "d381b66b-ee3b-49d9-8d1c-1fbe11667a82",
   "metadata": {},
   "source": [
    "## Analytical LRN to compare against"
   ]
  },
  {
   "cell_type": "code",
   "execution_count": null,
   "id": "e17563da-3e6f-4588-ab44-86c6d597bdb3",
   "metadata": {
    "tags": []
   },
   "outputs": [],
   "source": [
    "pm.phase_initialization = 1\n",
    "pm.collect_params()\n",
    "analytical_lrn = lrn.LRN(pm.params_model_lrn, pm.params_propagator, pm.params_modulator).cuda()\n",
    "analytical_lrn.eval()\n",
    "pm.phase_initialization = 0"
   ]
  },
  {
   "cell_type": "code",
   "execution_count": null,
   "id": "51753057-e6a9-4a7b-b992-6836fb96b777",
   "metadata": {},
   "outputs": [],
   "source": [
    "fig,ax = plt.subplots(1,1)\n",
    "ax.imshow(analytical_lrn.layers[1].phase.detach().cpu().squeeze() % (2*np.pi), cmap = 'viridis')\n",
    "ax.grid(False)\n",
    "ax.axis('off')\n",
    "fig.savefig('good_lens.pdf')"
   ]
  },
  {
   "cell_type": "code",
   "execution_count": null,
   "id": "a8540fa2-a0ad-4b2f-90a5-175149d3a288",
   "metadata": {},
   "outputs": [],
   "source": [
    "analytical_measures, analytical_sample, analytical_output = eval_model(analytical_lrn, dataloader_test)\n",
    "analytical_params = analytical_measures.pop(0)\n",
    "\n",
    "analytical_mse_by_class = split_mse_by_class(analytical_measures)\n",
    "analytical_psnr_by_class = split_psnr_by_class(analytical_measures)\n",
    "\n",
    "analytical_mse_by_class = [analytical_mse_by_class[i] for i in analytical_mse_by_class]\n",
    "analytical_psnr_by_class =  [analytical_psnr_by_class[i] for i in analytical_psnr_by_class]\n",
    "\n",
    "analytical_average_mse_values.append(np.average(analytical_mse_by_class))\n",
    "analytical_average_psnr_values.append(np.average(analytical_psnr_by_class))"
   ]
  },
  {
   "cell_type": "code",
   "execution_count": null,
   "id": "f15da603-33e9-4df8-935b-b7d11928a40f",
   "metadata": {},
   "outputs": [],
   "source": [
    "# Get a good image for comparisons\n",
    "number = 500\n",
    "for i,batch1 in enumerate(dataloader_test):\n",
    "    if i == number:\n",
    "        break\n",
    "fig,ax = plt.subplots(1,1)\n",
    "ax.imshow(batch1[0].abs().squeeze(), cmap='viridis')\n",
    "ax.grid(False)\n"
   ]
  },
  {
   "cell_type": "code",
   "execution_count": null,
   "id": "fdb36fdd-7dd3-4ddb-b5df-9752c8cc841f",
   "metadata": {},
   "outputs": [],
   "source": [
    "# Get a good image for comparisons\n",
    "number = 1\n",
    "for i,batch2 in enumerate(data_loaders['mnist_single0']):\n",
    "    if i == number:\n",
    "        break\n",
    "fig,ax = plt.subplots(1,1)\n",
    "ax.imshow(batch2[0].abs().squeeze(), cmap='viridis')\n",
    "ax.grid(False)"
   ]
  },
  {
   "cell_type": "code",
   "execution_count": null,
   "id": "a7073942-14e8-41a2-8598-8f92a6c6db20",
   "metadata": {},
   "outputs": [],
   "source": [
    "#Load the model in \n",
    "model = lrn.LRN.load_from_checkpoint('../my_models/lrn/test_lrn/epoch=0-step=1250-v2.ckpt')\n",
    "model.eval()\n",
    "model = model.cuda()"
   ]
  },
  {
   "cell_type": "code",
   "execution_count": null,
   "id": "2c21e102-1fd0-4874-95d0-b5717634eebe",
   "metadata": {
    "jupyter": {
     "source_hidden": true
    },
    "tags": []
   },
   "outputs": [],
   "source": [
    "learned_measures, learned_example_input, learned_example_output = eval_model_single(model, data_loaders['mnist_single0'])\n",
    "learned_phase = model.layers[1].phase.detach().squeeze().cpu()\n",
    "learned_measures.pop(0)\n",
    "\n",
    "analytical_measures, analytical_example_input, analytical_example_output = eval_model_single(analytical_lrn, data_loaders['mnist_single0'])\n",
    "analytical_phase = analytical_lrn.layers[1].phase.detach().squeeze().cpu()\n",
    "analytical_measures.pop(0)\n",
    "\n",
    "print(learned_measures)\n",
    "print(analytical_measures)"
   ]
  },
  {
   "cell_type": "code",
   "execution_count": null,
   "id": "f51afa3a-3d60-4594-a544-4a17012b62c7",
   "metadata": {},
   "outputs": [],
   "source": [
    "test_measures, test_example_input, test_example_output = eval_model_fromBatch(model, batch1)\n",
    "train_measures, train_example_input, train_example_output = eval_model_fromBatch(model, batch2)\n",
    "\n",
    "test_params = test_measures.pop(0)\n",
    "train_params = train_measures.pop(0)"
   ]
  },
  {
   "cell_type": "code",
   "execution_count": null,
   "id": "da4e748a-ce86-4964-86d5-7dd2d59b6731",
   "metadata": {},
   "outputs": [],
   "source": [
    "fig,ax = plt.subplots(2,3, figsize=(13,8))\n",
    "ax[0][1].imshow(train_example_input.detach().cpu().abs().squeeze(), cmap='viridis')\n",
    "ax[0][1].grid(False)\n",
    "ax[0][1].axis('off')\n",
    "ax[0][0].imshow(learned_phase % (2*np.pi), cmap='viridis')\n",
    "ax[0][0].grid(False)\n",
    "ax[0][0].axis('off')\n",
    "ax[0][2].imshow(train_example_output.detach().cpu().abs().squeeze(),cmap='viridis')\n",
    "ax[0][2].grid(False)\n",
    "ax[0][2].axis('off')\n",
    "\n",
    "#ax[0][2].text(680,75,'PSNR: {:.2f}'.format(train_measures[0]['psnr']), color='white', fontsize=12)\n",
    "#ax[0][2].text(680,150,'MSE: {:.2f}'.format(train_measures[0]['mse']), color='white', fontsize=12)\n",
    "\n",
    "\n",
    "ax[1][1].imshow(test_example_input.detach().cpu().abs().squeeze(), cmap='viridis')\n",
    "ax[1][1].grid(False)\n",
    "ax[1][1].axis('off')\n",
    "ax[1][0].imshow(learned_phase % (2*np.pi), cmap='viridis')\n",
    "ax[1][0].grid(False)\n",
    "ax[1][0].axis('off')\n",
    "ax[1][2].imshow(test_example_output.detach().cpu().abs().squeeze(),cmap='viridis')\n",
    "ax[1][2].grid(False)\n",
    "ax[1][2].axis('off')\n",
    "\n",
    "#ax[1][2].text(680,75,'PSNR: {:.2f}'.format(test_measures[0]['psnr']), color='white', fontsize=12)\n",
    "#ax[1][2].text(680,150,'MSE: {:.2f}'.format(test_measures[0]['mse']), color='white', fontsize=12)\n",
    "\n",
    "plt.tight_layout()\n",
    "fig.savefig('testLrn_output.pdf')"
   ]
  },
  {
   "cell_type": "code",
   "execution_count": null,
   "id": "ab96b438-97b8-441c-89a2-afb18926ba42",
   "metadata": {},
   "outputs": [],
   "source": []
  }
 ],
 "metadata": {
  "kernelspec": {
   "display_name": "Python 3 (ipykernel)",
   "language": "python",
   "name": "python3"
  },
  "language_info": {
   "codemirror_mode": {
    "name": "ipython",
    "version": 3
   },
   "file_extension": ".py",
   "mimetype": "text/x-python",
   "name": "python",
   "nbconvert_exporter": "python",
   "pygments_lexer": "ipython3",
   "version": "3.11.5"
  }
 },
 "nbformat": 4,
 "nbformat_minor": 5
}
